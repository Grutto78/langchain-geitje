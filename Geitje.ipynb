{
 "cells": [
  {
   "cell_type": "code",
   "execution_count": 1,
   "id": "a2f2cdb8-7e08-4cd0-9e70-192a7b72bbab",
   "metadata": {},
   "outputs": [
    {
     "name": "stdout",
     "output_type": "stream",
     "text": [
      "Requirement already satisfied: langchain in c:\\users\\erikg\\anaconda3\\envs\\ollie\\lib\\site-packages (0.0.353)\n",
      "Requirement already satisfied: chromadb in c:\\users\\erikg\\anaconda3\\envs\\ollie\\lib\\site-packages (0.4.21)\n",
      "Requirement already satisfied: PyYAML>=5.3 in c:\\users\\erikg\\anaconda3\\envs\\ollie\\lib\\site-packages (from langchain) (6.0.1)\n",
      "Requirement already satisfied: SQLAlchemy<3,>=1.4 in c:\\users\\erikg\\anaconda3\\envs\\ollie\\lib\\site-packages (from langchain) (2.0.24)\n",
      "Requirement already satisfied: aiohttp<4.0.0,>=3.8.3 in c:\\users\\erikg\\anaconda3\\envs\\ollie\\lib\\site-packages (from langchain) (3.9.1)\n",
      "Requirement already satisfied: dataclasses-json<0.7,>=0.5.7 in c:\\users\\erikg\\anaconda3\\envs\\ollie\\lib\\site-packages (from langchain) (0.6.3)\n",
      "Requirement already satisfied: jsonpatch<2.0,>=1.33 in c:\\users\\erikg\\anaconda3\\envs\\ollie\\lib\\site-packages (from langchain) (1.33)\n",
      "Requirement already satisfied: langchain-community<0.1,>=0.0.2 in c:\\users\\erikg\\anaconda3\\envs\\ollie\\lib\\site-packages (from langchain) (0.0.7)\n",
      "Requirement already satisfied: langchain-core<0.2,>=0.1.4 in c:\\users\\erikg\\anaconda3\\envs\\ollie\\lib\\site-packages (from langchain) (0.1.4)\n",
      "Requirement already satisfied: langsmith<0.1.0,>=0.0.70 in c:\\users\\erikg\\anaconda3\\envs\\ollie\\lib\\site-packages (from langchain) (0.0.75)\n",
      "Requirement already satisfied: numpy<2,>=1 in c:\\users\\erikg\\anaconda3\\envs\\ollie\\lib\\site-packages (from langchain) (1.26.2)\n",
      "Requirement already satisfied: pydantic<3,>=1 in c:\\users\\erikg\\anaconda3\\envs\\ollie\\lib\\site-packages (from langchain) (2.5.3)\n",
      "Requirement already satisfied: requests<3,>=2 in c:\\users\\erikg\\anaconda3\\envs\\ollie\\lib\\site-packages (from langchain) (2.31.0)\n",
      "Requirement already satisfied: tenacity<9.0.0,>=8.1.0 in c:\\users\\erikg\\anaconda3\\envs\\ollie\\lib\\site-packages (from langchain) (8.2.3)\n",
      "Requirement already satisfied: chroma-hnswlib==0.7.3 in c:\\users\\erikg\\anaconda3\\envs\\ollie\\lib\\site-packages (from chromadb) (0.7.3)\n",
      "Requirement already satisfied: fastapi>=0.95.2 in c:\\users\\erikg\\anaconda3\\envs\\ollie\\lib\\site-packages (from chromadb) (0.108.0)\n",
      "Requirement already satisfied: uvicorn>=0.18.3 in c:\\users\\erikg\\anaconda3\\envs\\ollie\\lib\\site-packages (from uvicorn[standard]>=0.18.3->chromadb) (0.25.0)\n",
      "Requirement already satisfied: posthog>=2.4.0 in c:\\users\\erikg\\anaconda3\\envs\\ollie\\lib\\site-packages (from chromadb) (3.1.0)\n",
      "Requirement already satisfied: typing-extensions>=4.5.0 in c:\\users\\erikg\\anaconda3\\envs\\ollie\\lib\\site-packages (from chromadb) (4.9.0)\n",
      "Requirement already satisfied: pulsar-client>=3.1.0 in c:\\users\\erikg\\anaconda3\\envs\\ollie\\lib\\site-packages (from chromadb) (3.3.0)\n",
      "Requirement already satisfied: onnxruntime>=1.14.1 in c:\\users\\erikg\\anaconda3\\envs\\ollie\\lib\\site-packages (from chromadb) (1.16.3)\n",
      "Requirement already satisfied: opentelemetry-api>=1.2.0 in c:\\users\\erikg\\anaconda3\\envs\\ollie\\lib\\site-packages (from chromadb) (1.22.0)\n",
      "Requirement already satisfied: opentelemetry-exporter-otlp-proto-grpc>=1.2.0 in c:\\users\\erikg\\anaconda3\\envs\\ollie\\lib\\site-packages (from chromadb) (1.22.0)\n",
      "Requirement already satisfied: opentelemetry-instrumentation-fastapi>=0.41b0 in c:\\users\\erikg\\anaconda3\\envs\\ollie\\lib\\site-packages (from chromadb) (0.43b0)\n",
      "Requirement already satisfied: opentelemetry-sdk>=1.2.0 in c:\\users\\erikg\\anaconda3\\envs\\ollie\\lib\\site-packages (from chromadb) (1.22.0)\n",
      "Requirement already satisfied: tokenizers>=0.13.2 in c:\\users\\erikg\\anaconda3\\envs\\ollie\\lib\\site-packages (from chromadb) (0.15.0)\n",
      "Requirement already satisfied: pypika>=0.48.9 in c:\\users\\erikg\\anaconda3\\envs\\ollie\\lib\\site-packages (from chromadb) (0.48.9)\n",
      "Requirement already satisfied: tqdm>=4.65.0 in c:\\users\\erikg\\anaconda3\\envs\\ollie\\lib\\site-packages (from chromadb) (4.66.1)\n",
      "Requirement already satisfied: overrides>=7.3.1 in c:\\users\\erikg\\anaconda3\\envs\\ollie\\lib\\site-packages (from chromadb) (7.4.0)\n",
      "Requirement already satisfied: importlib-resources in c:\\users\\erikg\\anaconda3\\envs\\ollie\\lib\\site-packages (from chromadb) (6.1.1)\n",
      "Requirement already satisfied: grpcio>=1.58.0 in c:\\users\\erikg\\anaconda3\\envs\\ollie\\lib\\site-packages (from chromadb) (1.60.0)\n",
      "Requirement already satisfied: bcrypt>=4.0.1 in c:\\users\\erikg\\anaconda3\\envs\\ollie\\lib\\site-packages (from chromadb) (4.1.2)\n",
      "Requirement already satisfied: typer>=0.9.0 in c:\\users\\erikg\\anaconda3\\envs\\ollie\\lib\\site-packages (from chromadb) (0.9.0)\n",
      "Requirement already satisfied: kubernetes>=28.1.0 in c:\\users\\erikg\\anaconda3\\envs\\ollie\\lib\\site-packages (from chromadb) (28.1.0)\n",
      "Requirement already satisfied: mmh3>=4.0.1 in c:\\users\\erikg\\anaconda3\\envs\\ollie\\lib\\site-packages (from chromadb) (4.0.1)\n",
      "Requirement already satisfied: attrs>=17.3.0 in c:\\users\\erikg\\anaconda3\\envs\\ollie\\lib\\site-packages (from aiohttp<4.0.0,>=3.8.3->langchain) (23.1.0)\n",
      "Requirement already satisfied: multidict<7.0,>=4.5 in c:\\users\\erikg\\anaconda3\\envs\\ollie\\lib\\site-packages (from aiohttp<4.0.0,>=3.8.3->langchain) (6.0.4)\n",
      "Requirement already satisfied: yarl<2.0,>=1.0 in c:\\users\\erikg\\anaconda3\\envs\\ollie\\lib\\site-packages (from aiohttp<4.0.0,>=3.8.3->langchain) (1.9.4)\n",
      "Requirement already satisfied: frozenlist>=1.1.1 in c:\\users\\erikg\\anaconda3\\envs\\ollie\\lib\\site-packages (from aiohttp<4.0.0,>=3.8.3->langchain) (1.4.1)\n",
      "Requirement already satisfied: aiosignal>=1.1.2 in c:\\users\\erikg\\anaconda3\\envs\\ollie\\lib\\site-packages (from aiohttp<4.0.0,>=3.8.3->langchain) (1.3.1)\n",
      "Requirement already satisfied: marshmallow<4.0.0,>=3.18.0 in c:\\users\\erikg\\anaconda3\\envs\\ollie\\lib\\site-packages (from dataclasses-json<0.7,>=0.5.7->langchain) (3.20.1)\n",
      "Requirement already satisfied: typing-inspect<1,>=0.4.0 in c:\\users\\erikg\\anaconda3\\envs\\ollie\\lib\\site-packages (from dataclasses-json<0.7,>=0.5.7->langchain) (0.9.0)\n",
      "Requirement already satisfied: starlette<0.33.0,>=0.29.0 in c:\\users\\erikg\\anaconda3\\envs\\ollie\\lib\\site-packages (from fastapi>=0.95.2->chromadb) (0.32.0.post1)\n",
      "Requirement already satisfied: jsonpointer>=1.9 in c:\\users\\erikg\\anaconda3\\envs\\ollie\\lib\\site-packages (from jsonpatch<2.0,>=1.33->langchain) (2.4)\n",
      "Requirement already satisfied: certifi>=14.05.14 in c:\\users\\erikg\\anaconda3\\envs\\ollie\\lib\\site-packages (from kubernetes>=28.1.0->chromadb) (2023.11.17)\n",
      "Requirement already satisfied: six>=1.9.0 in c:\\users\\erikg\\anaconda3\\envs\\ollie\\lib\\site-packages (from kubernetes>=28.1.0->chromadb) (1.16.0)\n",
      "Requirement already satisfied: python-dateutil>=2.5.3 in c:\\users\\erikg\\anaconda3\\envs\\ollie\\lib\\site-packages (from kubernetes>=28.1.0->chromadb) (2.8.2)\n",
      "Requirement already satisfied: google-auth>=1.0.1 in c:\\users\\erikg\\anaconda3\\envs\\ollie\\lib\\site-packages (from kubernetes>=28.1.0->chromadb) (2.25.2)\n",
      "Requirement already satisfied: websocket-client!=0.40.0,!=0.41.*,!=0.42.*,>=0.32.0 in c:\\users\\erikg\\anaconda3\\envs\\ollie\\lib\\site-packages (from kubernetes>=28.1.0->chromadb) (0.58.0)\n",
      "Requirement already satisfied: requests-oauthlib in c:\\users\\erikg\\anaconda3\\envs\\ollie\\lib\\site-packages (from kubernetes>=28.1.0->chromadb) (1.3.1)\n",
      "Requirement already satisfied: oauthlib>=3.2.2 in c:\\users\\erikg\\anaconda3\\envs\\ollie\\lib\\site-packages (from kubernetes>=28.1.0->chromadb) (3.2.2)\n",
      "Requirement already satisfied: urllib3<2.0,>=1.24.2 in c:\\users\\erikg\\anaconda3\\envs\\ollie\\lib\\site-packages (from kubernetes>=28.1.0->chromadb) (1.26.18)\n",
      "Requirement already satisfied: anyio<5,>=3 in c:\\users\\erikg\\anaconda3\\envs\\ollie\\lib\\site-packages (from langchain-core<0.2,>=0.1.4->langchain) (3.5.0)\n",
      "Requirement already satisfied: packaging<24.0,>=23.2 in c:\\users\\erikg\\anaconda3\\envs\\ollie\\lib\\site-packages (from langchain-core<0.2,>=0.1.4->langchain) (23.2)\n",
      "Requirement already satisfied: coloredlogs in c:\\users\\erikg\\anaconda3\\envs\\ollie\\lib\\site-packages (from onnxruntime>=1.14.1->chromadb) (15.0.1)\n",
      "Requirement already satisfied: flatbuffers in c:\\users\\erikg\\anaconda3\\envs\\ollie\\lib\\site-packages (from onnxruntime>=1.14.1->chromadb) (23.5.26)\n",
      "Requirement already satisfied: protobuf in c:\\users\\erikg\\anaconda3\\envs\\ollie\\lib\\site-packages (from onnxruntime>=1.14.1->chromadb) (4.25.1)\n",
      "Requirement already satisfied: sympy in c:\\users\\erikg\\anaconda3\\envs\\ollie\\lib\\site-packages (from onnxruntime>=1.14.1->chromadb) (1.12)\n",
      "Requirement already satisfied: deprecated>=1.2.6 in c:\\users\\erikg\\anaconda3\\envs\\ollie\\lib\\site-packages (from opentelemetry-api>=1.2.0->chromadb) (1.2.14)\n",
      "Requirement already satisfied: importlib-metadata<7.0,>=6.0 in c:\\users\\erikg\\anaconda3\\envs\\ollie\\lib\\site-packages (from opentelemetry-api>=1.2.0->chromadb) (6.11.0)\n",
      "Requirement already satisfied: backoff<3.0.0,>=1.10.0 in c:\\users\\erikg\\anaconda3\\envs\\ollie\\lib\\site-packages (from opentelemetry-exporter-otlp-proto-grpc>=1.2.0->chromadb) (2.2.1)\n",
      "Requirement already satisfied: googleapis-common-protos~=1.52 in c:\\users\\erikg\\anaconda3\\envs\\ollie\\lib\\site-packages (from opentelemetry-exporter-otlp-proto-grpc>=1.2.0->chromadb) (1.62.0)\n",
      "Requirement already satisfied: opentelemetry-exporter-otlp-proto-common==1.22.0 in c:\\users\\erikg\\anaconda3\\envs\\ollie\\lib\\site-packages (from opentelemetry-exporter-otlp-proto-grpc>=1.2.0->chromadb) (1.22.0)\n",
      "Requirement already satisfied: opentelemetry-proto==1.22.0 in c:\\users\\erikg\\anaconda3\\envs\\ollie\\lib\\site-packages (from opentelemetry-exporter-otlp-proto-grpc>=1.2.0->chromadb) (1.22.0)\n",
      "Requirement already satisfied: opentelemetry-instrumentation-asgi==0.43b0 in c:\\users\\erikg\\anaconda3\\envs\\ollie\\lib\\site-packages (from opentelemetry-instrumentation-fastapi>=0.41b0->chromadb) (0.43b0)\n",
      "Requirement already satisfied: opentelemetry-instrumentation==0.43b0 in c:\\users\\erikg\\anaconda3\\envs\\ollie\\lib\\site-packages (from opentelemetry-instrumentation-fastapi>=0.41b0->chromadb) (0.43b0)\n",
      "Requirement already satisfied: opentelemetry-semantic-conventions==0.43b0 in c:\\users\\erikg\\anaconda3\\envs\\ollie\\lib\\site-packages (from opentelemetry-instrumentation-fastapi>=0.41b0->chromadb) (0.43b0)\n",
      "Requirement already satisfied: opentelemetry-util-http==0.43b0 in c:\\users\\erikg\\anaconda3\\envs\\ollie\\lib\\site-packages (from opentelemetry-instrumentation-fastapi>=0.41b0->chromadb) (0.43b0)\n",
      "Requirement already satisfied: setuptools>=16.0 in c:\\users\\erikg\\anaconda3\\envs\\ollie\\lib\\site-packages (from opentelemetry-instrumentation==0.43b0->opentelemetry-instrumentation-fastapi>=0.41b0->chromadb) (68.2.2)\n",
      "Requirement already satisfied: wrapt<2.0.0,>=1.0.0 in c:\\users\\erikg\\anaconda3\\envs\\ollie\\lib\\site-packages (from opentelemetry-instrumentation==0.43b0->opentelemetry-instrumentation-fastapi>=0.41b0->chromadb) (1.16.0)\n",
      "Requirement already satisfied: asgiref~=3.0 in c:\\users\\erikg\\anaconda3\\envs\\ollie\\lib\\site-packages (from opentelemetry-instrumentation-asgi==0.43b0->opentelemetry-instrumentation-fastapi>=0.41b0->chromadb) (3.7.2)\n",
      "Requirement already satisfied: monotonic>=1.5 in c:\\users\\erikg\\anaconda3\\envs\\ollie\\lib\\site-packages (from posthog>=2.4.0->chromadb) (1.6)\n",
      "Requirement already satisfied: annotated-types>=0.4.0 in c:\\users\\erikg\\anaconda3\\envs\\ollie\\lib\\site-packages (from pydantic<3,>=1->langchain) (0.6.0)\n",
      "Requirement already satisfied: pydantic-core==2.14.6 in c:\\users\\erikg\\anaconda3\\envs\\ollie\\lib\\site-packages (from pydantic<3,>=1->langchain) (2.14.6)\n",
      "Requirement already satisfied: charset-normalizer<4,>=2 in c:\\users\\erikg\\anaconda3\\envs\\ollie\\lib\\site-packages (from requests<3,>=2->langchain) (2.0.4)\n",
      "Requirement already satisfied: idna<4,>=2.5 in c:\\users\\erikg\\anaconda3\\envs\\ollie\\lib\\site-packages (from requests<3,>=2->langchain) (3.4)\n",
      "Requirement already satisfied: greenlet!=0.4.17 in c:\\users\\erikg\\anaconda3\\envs\\ollie\\lib\\site-packages (from SQLAlchemy<3,>=1.4->langchain) (3.0.3)\n",
      "Requirement already satisfied: huggingface_hub<1.0,>=0.16.4 in c:\\users\\erikg\\anaconda3\\envs\\ollie\\lib\\site-packages (from tokenizers>=0.13.2->chromadb) (0.20.1)\n",
      "Requirement already satisfied: colorama in c:\\users\\erikg\\anaconda3\\envs\\ollie\\lib\\site-packages (from tqdm>=4.65.0->chromadb) (0.4.6)\n",
      "Requirement already satisfied: click<9.0.0,>=7.1.1 in c:\\users\\erikg\\anaconda3\\envs\\ollie\\lib\\site-packages (from typer>=0.9.0->chromadb) (8.1.7)\n",
      "Requirement already satisfied: h11>=0.8 in c:\\users\\erikg\\anaconda3\\envs\\ollie\\lib\\site-packages (from uvicorn>=0.18.3->uvicorn[standard]>=0.18.3->chromadb) (0.14.0)\n",
      "Requirement already satisfied: httptools>=0.5.0 in c:\\users\\erikg\\anaconda3\\envs\\ollie\\lib\\site-packages (from uvicorn[standard]>=0.18.3->chromadb) (0.6.1)\n",
      "Requirement already satisfied: python-dotenv>=0.13 in c:\\users\\erikg\\anaconda3\\envs\\ollie\\lib\\site-packages (from uvicorn[standard]>=0.18.3->chromadb) (1.0.0)\n",
      "Requirement already satisfied: watchfiles>=0.13 in c:\\users\\erikg\\anaconda3\\envs\\ollie\\lib\\site-packages (from uvicorn[standard]>=0.18.3->chromadb) (0.21.0)\n",
      "Requirement already satisfied: websockets>=10.4 in c:\\users\\erikg\\anaconda3\\envs\\ollie\\lib\\site-packages (from uvicorn[standard]>=0.18.3->chromadb) (12.0)\n",
      "Requirement already satisfied: sniffio>=1.1 in c:\\users\\erikg\\anaconda3\\envs\\ollie\\lib\\site-packages (from anyio<5,>=3->langchain-core<0.2,>=0.1.4->langchain) (1.2.0)\n",
      "Requirement already satisfied: cachetools<6.0,>=2.0.0 in c:\\users\\erikg\\anaconda3\\envs\\ollie\\lib\\site-packages (from google-auth>=1.0.1->kubernetes>=28.1.0->chromadb) (5.3.2)\n",
      "Requirement already satisfied: pyasn1-modules>=0.2.1 in c:\\users\\erikg\\anaconda3\\envs\\ollie\\lib\\site-packages (from google-auth>=1.0.1->kubernetes>=28.1.0->chromadb) (0.3.0)\n",
      "Requirement already satisfied: rsa<5,>=3.1.4 in c:\\users\\erikg\\anaconda3\\envs\\ollie\\lib\\site-packages (from google-auth>=1.0.1->kubernetes>=28.1.0->chromadb) (4.9)\n",
      "Requirement already satisfied: filelock in c:\\users\\erikg\\anaconda3\\envs\\ollie\\lib\\site-packages (from huggingface_hub<1.0,>=0.16.4->tokenizers>=0.13.2->chromadb) (3.13.1)\n",
      "Requirement already satisfied: fsspec>=2023.5.0 in c:\\users\\erikg\\anaconda3\\envs\\ollie\\lib\\site-packages (from huggingface_hub<1.0,>=0.16.4->tokenizers>=0.13.2->chromadb) (2023.12.2)\n",
      "Requirement already satisfied: zipp>=0.5 in c:\\users\\erikg\\anaconda3\\envs\\ollie\\lib\\site-packages (from importlib-metadata<7.0,>=6.0->opentelemetry-api>=1.2.0->chromadb) (3.17.0)\n",
      "Requirement already satisfied: mypy-extensions>=0.3.0 in c:\\users\\erikg\\anaconda3\\envs\\ollie\\lib\\site-packages (from typing-inspect<1,>=0.4.0->dataclasses-json<0.7,>=0.5.7->langchain) (1.0.0)\n",
      "Requirement already satisfied: humanfriendly>=9.1 in c:\\users\\erikg\\anaconda3\\envs\\ollie\\lib\\site-packages (from coloredlogs->onnxruntime>=1.14.1->chromadb) (10.0)\n",
      "Requirement already satisfied: mpmath>=0.19 in c:\\users\\erikg\\anaconda3\\envs\\ollie\\lib\\site-packages (from sympy->onnxruntime>=1.14.1->chromadb) (1.3.0)\n",
      "Requirement already satisfied: pyreadline3 in c:\\users\\erikg\\anaconda3\\envs\\ollie\\lib\\site-packages (from humanfriendly>=9.1->coloredlogs->onnxruntime>=1.14.1->chromadb) (3.4.1)\n",
      "Requirement already satisfied: pyasn1<0.6.0,>=0.4.6 in c:\\users\\erikg\\anaconda3\\envs\\ollie\\lib\\site-packages (from pyasn1-modules>=0.2.1->google-auth>=1.0.1->kubernetes>=28.1.0->chromadb) (0.5.1)\n",
      "Note: you may need to restart the kernel to use updated packages.\n"
     ]
    }
   ],
   "source": [
    "pip install langchain chromadb"
   ]
  },
  {
   "cell_type": "code",
   "execution_count": 2,
   "id": "2bfe2065-c5e6-442c-acf1-4dccab767a0c",
   "metadata": {},
   "outputs": [
    {
     "name": "stdout",
     "output_type": "stream",
     "text": [
      "De lucht is blauw vanwege de manier waarop zonlicht wordt verstrooid door moleculen in de atmosfeer. Deze moleculen zijn voornamelijk waterdamp en zuurstof, die het grootste deel van het zichtbare licht dat de aarde bereikt, verstrooien. Het blauwe licht wordt meer verstrooid dan andere kleuren, wat resulteert in een blauwe lucht.\n"
     ]
    }
   ],
   "source": [
    "from langchain.llms import Ollama\n",
    "ollama = Ollama(base_url='http://localhost:11434',\n",
    "model=\"geitje\")\n",
    "print(ollama(\"Waarom is de lucht blauw?\"))"
   ]
  },
  {
   "cell_type": "code",
   "execution_count": 3,
   "id": "32ca3440-4c11-4ce3-96d6-bf42b54c6fd4",
   "metadata": {},
   "outputs": [],
   "source": [
    "from langchain.document_loaders import WebBaseLoader\n",
    "loader = WebBaseLoader(\"https://lingua.com/nl/nederlands/lezen/boodschappen/\")\n",
    "data = loader.load()"
   ]
  },
  {
   "cell_type": "code",
   "execution_count": 4,
   "id": "b1730658-d2b1-4bb6-95bf-4452430e4384",
   "metadata": {},
   "outputs": [],
   "source": [
    "from langchain.text_splitter import RecursiveCharacterTextSplitter\n",
    "\n",
    "text_splitter=RecursiveCharacterTextSplitter(chunk_size=500, chunk_overlap=0)\n",
    "all_splits = text_splitter.split_documents(data)"
   ]
  },
  {
   "cell_type": "code",
   "execution_count": 5,
   "id": "d25acbea-47d3-4571-a164-cee3102f62b9",
   "metadata": {},
   "outputs": [],
   "source": [
    "from langchain.embeddings import OllamaEmbeddings\n",
    "from langchain.vectorstores import Chroma\n",
    "oembed = OllamaEmbeddings(base_url=\"http://localhost:11434\", model=\"geitje\")\n",
    "vectorstore = Chroma.from_documents(documents=all_splits, embedding=oembed)"
   ]
  },
  {
   "cell_type": "markdown",
   "id": "60f219fb-b7ad-44b8-82fc-c9bca9d2730b",
   "metadata": {},
   "source": [
    "question=\"Waarom gaat Frank naar de markt?\"\n",
    "docs = vectorstore.similarity_search(question)\n",
    "len(docs)"
   ]
  },
  {
   "cell_type": "code",
   "execution_count": 7,
   "id": "902fa4f2-b4ef-42b0-aa5f-e6055bdf6fa7",
   "metadata": {},
   "outputs": [
    {
     "data": {
      "text/plain": [
       "{'query': 'Waarom gaat Frank naar de markt?',\n",
       " 'result': 'Frank gaat naar de markt om vis, schoenen en brood te kopen.'}"
      ]
     },
     "execution_count": 7,
     "metadata": {},
     "output_type": "execute_result"
    }
   ],
   "source": [
    "from langchain.chains import RetrievalQA\n",
    "qachain=RetrievalQA.from_chain_type(ollama, retriever=vectorstore.as_retriever())\n",
    "qachain({\"query\": question})"
   ]
  }
 ],
 "metadata": {
  "kernelspec": {
   "display_name": "Python 3 (ipykernel)",
   "language": "python",
   "name": "python3"
  },
  "language_info": {
   "codemirror_mode": {
    "name": "ipython",
    "version": 3
   },
   "file_extension": ".py",
   "mimetype": "text/x-python",
   "name": "python",
   "nbconvert_exporter": "python",
   "pygments_lexer": "ipython3",
   "version": "3.11.5"
  }
 },
 "nbformat": 4,
 "nbformat_minor": 5
}
